{
 "cells": [
  {
   "cell_type": "code",
   "execution_count": 3,
   "id": "d76b2ed3",
   "metadata": {},
   "outputs": [],
   "source": [
    "# IMPORTING LIBRARIES , DATASET\n",
    "import pandas as pd\n",
    "import numpy as np\n",
    "import matplotlib.pyplot as plt\n",
    "import seaborn as sns"
   ]
  },
  {
   "cell_type": "code",
   "execution_count": 4,
   "id": "43e642ef",
   "metadata": {},
   "outputs": [],
   "source": [
    "data=pd.read_csv('E:\\Admission_Predict.csv')\n"
   ]
  },
  {
   "cell_type": "code",
   "execution_count": 5,
   "id": "159b390c",
   "metadata": {},
   "outputs": [
    {
     "name": "stdout",
     "output_type": "stream",
     "text": [
      "Index(['Serial No.', 'GRE Score', 'TOEFL Score', 'University Rating', 'SOP',\n",
      "       'LOR ', 'CGPA', 'Research', 'Chance of Admit '],\n",
      "      dtype='object') (400, 9)\n"
     ]
    }
   ],
   "source": [
    "print(data.columns,data.shape)"
   ]
  },
  {
   "cell_type": "code",
   "execution_count": 6,
   "id": "cc96592a",
   "metadata": {},
   "outputs": [
    {
     "name": "stdout",
     "output_type": "stream",
     "text": [
      "Serial No.           0\n",
      "GRE Score            0\n",
      "TOEFL Score          0\n",
      "University Rating    0\n",
      "SOP                  0\n",
      "LOR                  0\n",
      "CGPA                 0\n",
      "Research             0\n",
      "Chance of Admit      0\n",
      "dtype: int64\n"
     ]
    }
   ],
   "source": [
    "# DATA PRE-PROCESSING\n",
    "print(data.isnull().sum())\n"
   ]
  },
  {
   "cell_type": "code",
   "execution_count": 7,
   "id": "fb4e171b",
   "metadata": {},
   "outputs": [
    {
     "name": "stdout",
     "output_type": "stream",
     "text": [
      "                   Serial No.  GRE Score  TOEFL Score  University Rating  \\\n",
      "Serial No.           1.000000  -0.097526    -0.147932          -0.169948   \n",
      "GRE Score           -0.097526   1.000000     0.835977           0.668976   \n",
      "TOEFL Score         -0.147932   0.835977     1.000000           0.695590   \n",
      "University Rating   -0.169948   0.668976     0.695590           1.000000   \n",
      "SOP                 -0.166932   0.612831     0.657981           0.734523   \n",
      "LOR                 -0.088221   0.557555     0.567721           0.660123   \n",
      "CGPA                -0.045608   0.833060     0.828417           0.746479   \n",
      "Research            -0.063138   0.580391     0.489858           0.447783   \n",
      "Chance of Admit      0.042336   0.802610     0.791594           0.711250   \n",
      "\n",
      "                        SOP      LOR       CGPA  Research  Chance of Admit   \n",
      "Serial No.        -0.166932 -0.088221 -0.045608 -0.063138          0.042336  \n",
      "GRE Score          0.612831  0.557555  0.833060  0.580391          0.802610  \n",
      "TOEFL Score        0.657981  0.567721  0.828417  0.489858          0.791594  \n",
      "University Rating  0.734523  0.660123  0.746479  0.447783          0.711250  \n",
      "SOP                1.000000  0.729593  0.718144  0.444029          0.675732  \n",
      "LOR                0.729593  1.000000  0.670211  0.396859          0.669889  \n",
      "CGPA               0.718144  0.670211  1.000000  0.521654          0.873289  \n",
      "Research           0.444029  0.396859  0.521654  1.000000          0.553202  \n",
      "Chance of Admit    0.675732  0.669889  0.873289  0.553202          1.000000  \n"
     ]
    }
   ],
   "source": [
    "print(data.corr())\n"
   ]
  },
  {
   "cell_type": "code",
   "execution_count": 8,
   "id": "1d40246a",
   "metadata": {},
   "outputs": [
    {
     "name": "stdout",
     "output_type": "stream",
     "text": [
      "<class 'pandas.core.frame.DataFrame'>\n",
      "RangeIndex: 400 entries, 0 to 399\n",
      "Data columns (total 9 columns):\n",
      " #   Column             Non-Null Count  Dtype  \n",
      "---  ------             --------------  -----  \n",
      " 0   Serial No.         400 non-null    int64  \n",
      " 1   GRE Score          400 non-null    int64  \n",
      " 2   TOEFL Score        400 non-null    int64  \n",
      " 3   University Rating  400 non-null    int64  \n",
      " 4   SOP                400 non-null    float64\n",
      " 5   LOR                400 non-null    float64\n",
      " 6   CGPA               400 non-null    float64\n",
      " 7   Research           400 non-null    int64  \n",
      " 8   Chance of Admit    400 non-null    float64\n",
      "dtypes: float64(4), int64(5)\n",
      "memory usage: 28.2 KB\n",
      "None\n"
     ]
    }
   ],
   "source": [
    "print(data.info())\n"
   ]
  },
  {
   "cell_type": "code",
   "execution_count": 9,
   "id": "115d6e69",
   "metadata": {},
   "outputs": [
    {
     "name": "stdout",
     "output_type": "stream",
     "text": [
      "<class 'pandas.core.frame.DataFrame'>\n",
      "RangeIndex: 400 entries, 0 to 399\n",
      "Data columns (total 9 columns):\n",
      " #   Column             Non-Null Count  Dtype  \n",
      "---  ------             --------------  -----  \n",
      " 0   Serial No.         400 non-null    int64  \n",
      " 1   GRE Score          400 non-null    int64  \n",
      " 2   TOEFL Score        400 non-null    int64  \n",
      " 3   University Rating  400 non-null    int64  \n",
      " 4   SOP                400 non-null    float64\n",
      " 5   LOR                400 non-null    float64\n",
      " 6   CGPA               400 non-null    float64\n",
      " 7   Research           400 non-null    int64  \n",
      " 8   Chance of Admit    400 non-null    float64\n",
      "dtypes: float64(4), int64(5)\n",
      "memory usage: 28.2 KB\n",
      "None\n"
     ]
    }
   ],
   "source": [
    "print(data.info())\n"
   ]
  },
  {
   "cell_type": "code",
   "execution_count": 10,
   "id": "ff6530a4",
   "metadata": {},
   "outputs": [
    {
     "name": "stdout",
     "output_type": "stream",
     "text": [
      "       Serial No.   GRE Score  TOEFL Score  University Rating         SOP  \\\n",
      "count  400.000000  400.000000   400.000000         400.000000  400.000000   \n",
      "mean   200.500000  316.807500   107.410000           3.087500    3.400000   \n",
      "std    115.614301   11.473646     6.069514           1.143728    1.006869   \n",
      "min      1.000000  290.000000    92.000000           1.000000    1.000000   \n",
      "25%    100.750000  308.000000   103.000000           2.000000    2.500000   \n",
      "50%    200.500000  317.000000   107.000000           3.000000    3.500000   \n",
      "75%    300.250000  325.000000   112.000000           4.000000    4.000000   \n",
      "max    400.000000  340.000000   120.000000           5.000000    5.000000   \n",
      "\n",
      "             LOR         CGPA    Research  Chance of Admit   \n",
      "count  400.000000  400.000000  400.000000        400.000000  \n",
      "mean     3.452500    8.598925    0.547500          0.724350  \n",
      "std      0.898478    0.596317    0.498362          0.142609  \n",
      "min      1.000000    6.800000    0.000000          0.340000  \n",
      "25%      3.000000    8.170000    0.000000          0.640000  \n",
      "50%      3.500000    8.610000    1.000000          0.730000  \n",
      "75%      4.000000    9.062500    1.000000          0.830000  \n",
      "max      5.000000    9.920000    1.000000          0.970000  \n"
     ]
    }
   ],
   "source": [
    "print(data.describe())\n"
   ]
  },
  {
   "cell_type": "code",
   "execution_count": 11,
   "id": "44168713",
   "metadata": {},
   "outputs": [
    {
     "name": "stdout",
     "output_type": "stream",
     "text": [
      "University ratings: {1, 2, 3, 4, 5} Research: {0, 1}\n"
     ]
    }
   ],
   "source": [
    "print(\"University ratings:\",set(data[\"University Rating\"]),\"Research:\",set(data[\"Research\"]))"
   ]
  },
  {
   "cell_type": "code",
   "execution_count": 12,
   "id": "dcc70158",
   "metadata": {},
   "outputs": [],
   "source": [
    "#DATA VISUALISATION"
   ]
  },
  {
   "cell_type": "code",
   "execution_count": 13,
   "id": "1eb06be4",
   "metadata": {},
   "outputs": [
    {
     "name": "stderr",
     "output_type": "stream",
     "text": [
      "C:\\Users\\ACER\\anaconda3\\lib\\site-packages\\seaborn\\_decorators.py:36: FutureWarning: Pass the following variables as keyword args: x, y. From version 0.12, the only valid positional argument will be `data`, and passing other arguments without an explicit keyword will result in an error or misinterpretation.\n",
      "  warnings.warn(\n"
     ]
    },
    {
     "data": {
      "text/plain": [
       "<AxesSubplot:xlabel='GRE Score', ylabel='CGPA'>"
      ]
     },
     "execution_count": 13,
     "metadata": {},
     "output_type": "execute_result"
    },
    {
     "data": {
      "image/png": "[encoded data removed]",
      "text/plain": [
       "<Figure size 640x480 with 1 Axes>"
      ]
     },
     "metadata": {},
     "output_type": "display_data"
    }
   ],
   "source": [
    "sns.barplot(data[\"GRE Score\"],data[\"CGPA\"])\n"
   ]
  },
  {
   "cell_type": "code",
   "execution_count": 14,
   "id": "ff5651ed",
   "metadata": {},
   "outputs": [
    {
     "name": "stderr",
     "output_type": "stream",
     "text": [
      "C:\\Users\\ACER\\anaconda3\\lib\\site-packages\\seaborn\\_decorators.py:36: FutureWarning: Pass the following variables as keyword args: x, y. From version 0.12, the only valid positional argument will be `data`, and passing other arguments without an explicit keyword will result in an error or misinterpretation.\n",
      "  warnings.warn(\n"
     ]
    },
    {
     "data": {
      "text/plain": [
       "<AxesSubplot:xlabel='SOP', ylabel='CGPA'>"
      ]
     },
     "execution_count": 14,
     "metadata": {},
     "output_type": "execute_result"
    },
    {
     "data": {
      "image/png": "[encoded data removed]",
      "text/plain": [
       "<Figure size 640x480 with 1 Axes>"
      ]
     },
     "metadata": {},
     "output_type": "display_data"
    }
   ],
   "source": [
    "sns.barplot(data[\"SOP\"],data[\"CGPA\"])\n"
   ]
  },
  {
   "cell_type": "code",
   "execution_count": 15,
   "id": "a3a24289",
   "metadata": {},
   "outputs": [
    {
     "name": "stderr",
     "output_type": "stream",
     "text": [
      "C:\\Users\\ACER\\anaconda3\\lib\\site-packages\\seaborn\\_decorators.py:36: FutureWarning: Pass the following variables as keyword args: x, y. From version 0.12, the only valid positional argument will be `data`, and passing other arguments without an explicit keyword will result in an error or misinterpretation.\n",
      "  warnings.warn(\n"
     ]
    },
    {
     "data": {
      "text/plain": [
       "<AxesSubplot:xlabel='TOEFL Score', ylabel='CGPA'>"
      ]
     },
     "execution_count": 15,
     "metadata": {},
     "output_type": "execute_result"
    },
    {
     "data": {
      "image/png": "[encoded data removed]",
      "text/plain": [
       "<Figure size 640x480 with 1 Axes>"
      ]
     },
     "metadata": {},
     "output_type": "display_data"
    }
   ],
   "source": [
    "sns.barplot(data[\"TOEFL Score\"],data[\"CGPA\"])\n"
   ]
  },
  {
   "cell_type": "code",
   "execution_count": 16,
   "id": "c5b6b218",
   "metadata": {},
   "outputs": [
    {
     "data": {
      "text/plain": [
       "<matplotlib.collections.PathCollection at 0x1f02cdf0250>"
      ]
     },
     "execution_count": 16,
     "metadata": {},
     "output_type": "execute_result"
    },
    {
     "data": {
      "image/png": "[encoded data removed]",
      "text/plain": [
       "<Figure size 640x480 with 1 Axes>"
      ]
     },
     "metadata": {},
     "output_type": "display_data"
    }
   ],
   "source": [
    "plt.scatter(data['GRE Score'],data['CGPA'])"
   ]
  },
  {
   "cell_type": "code",
   "execution_count": 17,
   "id": "02f6ecef",
   "metadata": {},
   "outputs": [
    {
     "data": {
      "text/plain": [
       "Text(0.5, 1.0, 'CGPA vs GRE Score')"
      ]
     },
     "execution_count": 17,
     "metadata": {},
     "output_type": "execute_result"
    },
    {
     "data": {
      "image/png": "[encoded data removed]",
      "text/plain": [
       "<Figure size 640x480 with 1 Axes>"
      ]
     },
     "metadata": {},
     "output_type": "display_data"
    }
   ],
   "source": [
    "plt.title('CGPA vs GRE Score')\n"
   ]
  },
  {
   "cell_type": "code",
   "execution_count": 18,
   "id": "ad27b08c",
   "metadata": {},
   "outputs": [
    {
     "data": {
      "text/plain": [
       "Text(0.5, 0, 'GRE Score')"
      ]
     },
     "execution_count": 18,
     "metadata": {},
     "output_type": "execute_result"
    },
    {
     "data": {
      "image/png": "[encoded data removed]",
      "text/plain": [
       "<Figure size 640x480 with 1 Axes>"
      ]
     },
     "metadata": {},
     "output_type": "display_data"
    }
   ],
   "source": [
    "plt.xlabel('GRE Score')"
   ]
  },
  {
   "cell_type": "code",
   "execution_count": 19,
   "id": "10c51f5b",
   "metadata": {},
   "outputs": [
    {
     "data": {
      "text/plain": [
       "Text(0, 0.5, 'CGPA')"
      ]
     },
     "execution_count": 19,
     "metadata": {},
     "output_type": "execute_result"
    },
    {
     "data": {
      "image/png": "[encoded data removed]",
      "text/plain": [
       "<Figure size 640x480 with 1 Axes>"
      ]
     },
     "metadata": {},
     "output_type": "display_data"
    }
   ],
   "source": [
    "plt.ylabel('CGPA')\n"
   ]
  },
  {
   "cell_type": "code",
   "execution_count": 20,
   "id": "a6d4e3f5",
   "metadata": {},
   "outputs": [],
   "source": [
    "plt.show()"
   ]
  },
  {
   "cell_type": "code",
   "execution_count": 21,
   "id": "592efb53",
   "metadata": {},
   "outputs": [
    {
     "data": {
      "text/plain": [
       "<matplotlib.collections.PathCollection at 0x1f02e0afdc0>"
      ]
     },
     "execution_count": 21,
     "metadata": {},
     "output_type": "execute_result"
    },
    {
     "data": {
      "image/png": "[encoded data removed]",
      "text/plain": [
       "<Figure size 640x480 with 1 Axes>"
      ]
     },
     "metadata": {},
     "output_type": "display_data"
    }
   ],
   "source": [
    "plt.scatter(data['CGPA'],data['SOP'])"
   ]
  },
  {
   "cell_type": "code",
   "execution_count": 22,
   "id": "2d17ca97",
   "metadata": {},
   "outputs": [
    {
     "data": {
      "text/plain": [
       "Text(0.5, 1.0, 'SOP for CGPA')"
      ]
     },
     "execution_count": 22,
     "metadata": {},
     "output_type": "execute_result"
    },
    {
     "data": {
      "image/png": "[encoded data removed]",
      "text/plain": [
       "<Figure size 640x480 with 1 Axes>"
      ]
     },
     "metadata": {},
     "output_type": "display_data"
    }
   ],
   "source": [
    "plt.title('SOP for CGPA')"
   ]
  },
  {
   "cell_type": "code",
   "execution_count": 23,
   "id": "92c3e04f",
   "metadata": {},
   "outputs": [
    {
     "data": {
      "text/plain": [
       "Text(0.5, 0, 'CGPA')"
      ]
     },
     "execution_count": 23,
     "metadata": {},
     "output_type": "execute_result"
    },
    {
     "data": {
      "image/png": "[encoded data removed]",
      "text/plain": [
       "<Figure size 640x480 with 1 Axes>"
      ]
     },
     "metadata": {},
     "output_type": "display_data"
    }
   ],
   "source": [
    "plt.xlabel('CGPA')"
   ]
  },
  {
   "cell_type": "code",
   "execution_count": 24,
   "id": "85453a50",
   "metadata": {},
   "outputs": [
    {
     "data": {
      "text/plain": [
       "Text(0, 0.5, 'SOP')"
      ]
     },
     "execution_count": 24,
     "metadata": {},
     "output_type": "execute_result"
    },
    {
     "data": {
      "image/png": "[encoded data removed]",
      "text/plain": [
       "<Figure size 640x480 with 1 Axes>"
      ]
     },
     "metadata": {},
     "output_type": "display_data"
    }
   ],
   "source": [
    "plt.ylabel('SOP')"
   ]
  },
  {
   "cell_type": "code",
   "execution_count": 25,
   "id": "08ac5628",
   "metadata": {},
   "outputs": [],
   "source": [
    "plt.show()"
   ]
  },
  {
   "cell_type": "code",
   "execution_count": 26,
   "id": "cabd9ba4",
   "metadata": {},
   "outputs": [
    {
     "data": {
      "text/plain": [
       "<Figure size 1000x1000 with 0 Axes>"
      ]
     },
     "execution_count": 26,
     "metadata": {},
     "output_type": "execute_result"
    },
    {
     "data": {
      "text/plain": [
       "<Figure size 1000x1000 with 0 Axes>"
      ]
     },
     "metadata": {},
     "output_type": "display_data"
    }
   ],
   "source": [
    "plt.figure(figsize=(10, 10))\n"
   ]
  },
  {
   "cell_type": "code",
   "execution_count": 27,
   "id": "4c14e3e5",
   "metadata": {},
   "outputs": [
    {
     "data": {
      "text/plain": [
       "<AxesSubplot:>"
      ]
     },
     "execution_count": 27,
     "metadata": {},
     "output_type": "execute_result"
    },
    {
     "data": {
      "image/png": "[encoded data removed]",
      "text/plain": [
       "<Figure size 640x480 with 2 Axes>"
      ]
     },
     "metadata": {},
     "output_type": "display_data"
    }
   ],
   "source": [
    "sns.heatmap(data.corr(), annot=True, linewidths=0.05, fmt= '.2f',cmap=\"magma\")"
   ]
  },
  {
   "cell_type": "code",
   "execution_count": 28,
   "id": "2e3cf03a",
   "metadata": {},
   "outputs": [],
   "source": [
    "plt.show()"
   ]
  },
  {
   "cell_type": "code",
   "execution_count": 29,
   "id": "48bced0f",
   "metadata": {},
   "outputs": [
    {
     "data": {
      "text/plain": [
       "1    219\n",
       "0    181\n",
       "Name: Research, dtype: int64"
      ]
     },
     "execution_count": 29,
     "metadata": {},
     "output_type": "execute_result"
    }
   ],
   "source": [
    "data.Research.value_counts()"
   ]
  },
  {
   "cell_type": "code",
   "execution_count": 30,
   "id": "9b8b2043",
   "metadata": {},
   "outputs": [
    {
     "data": {
      "text/plain": [
       "<AxesSubplot:xlabel='University Rating', ylabel='count'>"
      ]
     },
     "execution_count": 30,
     "metadata": {},
     "output_type": "execute_result"
    },
    {
     "data": {
      "image/png": "[encoded data removed]",
      "text/plain": [
       "<Figure size 640x480 with 1 Axes>"
      ]
     },
     "metadata": {},
     "output_type": "display_data"
    }
   ],
   "source": [
    "sns.countplot(x=\"University Rating\",data=data)"
   ]
  },
  {
   "cell_type": "code",
   "execution_count": 31,
   "id": "4324ae8f",
   "metadata": {},
   "outputs": [
    {
     "data": {
      "text/plain": [
       "1    219\n",
       "0    181\n",
       "Name: Research, dtype: int64"
      ]
     },
     "execution_count": 31,
     "metadata": {},
     "output_type": "execute_result"
    }
   ],
   "source": [
    "data.Research.value_counts()"
   ]
  },
  {
   "cell_type": "code",
   "execution_count": 32,
   "id": "fb378026",
   "metadata": {},
   "outputs": [
    {
     "data": {
      "text/plain": [
       "<AxesSubplot:xlabel='University Rating', ylabel='count'>"
      ]
     },
     "execution_count": 32,
     "metadata": {},
     "output_type": "execute_result"
    },
    {
     "data": {
      "image/png": "[encoded data removed]",
      "text/plain": [
       "<Figure size 640x480 with 1 Axes>"
      ]
     },
     "metadata": {},
     "output_type": "display_data"
    }
   ],
   "source": [
    "sns.countplot(x=\"University Rating\",data=data)"
   ]
  },
  {
   "cell_type": "code",
   "execution_count": 33,
   "id": "73a6ee06",
   "metadata": {},
   "outputs": [
    {
     "data": {
      "text/plain": [
       "<AxesSubplot:xlabel='University Rating', ylabel='Chance of Admit '>"
      ]
     },
     "execution_count": 33,
     "metadata": {},
     "output_type": "execute_result"
    },
    {
     "data": {
      "image/png": "[encoded data removed]",
      "text/plain": [
       "<Figure size 640x480 with 1 Axes>"
      ]
     },
     "metadata": {},
     "output_type": "display_data"
    }
   ],
   "source": [
    "sns.barplot(x=\"University Rating\", y=\"Chance of Admit \", data=data)"
   ]
  },
  {
   "cell_type": "code",
   "execution_count": 34,
   "id": "cedae3b7",
   "metadata": {},
   "outputs": [],
   "source": [
    "# DATA TRANSFORMATION"
   ]
  },
  {
   "cell_type": "code",
   "execution_count": 35,
   "id": "7bc5e866",
   "metadata": {},
   "outputs": [],
   "source": [
    "x=data.drop(['Serial No.','Chance of Admit '],axis=1)"
   ]
  },
  {
   "cell_type": "code",
   "execution_count": 36,
   "id": "cb0e4be6",
   "metadata": {},
   "outputs": [],
   "source": [
    "y=data['Chance of Admit ']"
   ]
  },
  {
   "cell_type": "code",
   "execution_count": 37,
   "id": "6966ac7e",
   "metadata": {},
   "outputs": [
    {
     "name": "stdout",
     "output_type": "stream",
     "text": [
      "(400, 7) (400,)\n"
     ]
    }
   ],
   "source": [
    "print(x.shape,y.shape)"
   ]
  },
  {
   "cell_type": "code",
   "execution_count": 38,
   "id": "55c5d8da",
   "metadata": {},
   "outputs": [],
   "source": [
    "from sklearn.model_selection import train_test_split"
   ]
  },
  {
   "cell_type": "code",
   "execution_count": 39,
   "id": "abb8d869",
   "metadata": {},
   "outputs": [],
   "source": [
    "x_train,x_test,y_train,y_test=train_test_split(x,y,test_size=0.2)"
   ]
  },
  {
   "cell_type": "code",
   "execution_count": 40,
   "id": "572e9a57",
   "metadata": {},
   "outputs": [
    {
     "name": "stdout",
     "output_type": "stream",
     "text": [
      "(320, 7)\n"
     ]
    }
   ],
   "source": [
    "print(x_train.shape)"
   ]
  },
  {
   "cell_type": "code",
   "execution_count": 41,
   "id": "45007792",
   "metadata": {},
   "outputs": [
    {
     "name": "stdout",
     "output_type": "stream",
     "text": [
      "(80, 7)\n"
     ]
    }
   ],
   "source": [
    "print(x_test.shape)"
   ]
  },
  {
   "cell_type": "code",
   "execution_count": 42,
   "id": "2891d430",
   "metadata": {},
   "outputs": [
    {
     "name": "stdout",
     "output_type": "stream",
     "text": [
      "(320,)\n"
     ]
    }
   ],
   "source": [
    "print(y_train.shape)\n",
    "\n"
   ]
  },
  {
   "cell_type": "code",
   "execution_count": 43,
   "id": "b2293f0a",
   "metadata": {},
   "outputs": [
    {
     "name": "stdout",
     "output_type": "stream",
     "text": [
      "(80,)\n"
     ]
    }
   ],
   "source": [
    "print(y_test.shape)\n"
   ]
  },
  {
   "cell_type": "code",
   "execution_count": 44,
   "id": "02362bc4",
   "metadata": {},
   "outputs": [],
   "source": [
    "from sklearn.preprocessing import MinMaxScaler"
   ]
  },
  {
   "cell_type": "code",
   "execution_count": 45,
   "id": "d32ff88b",
   "metadata": {},
   "outputs": [],
   "source": [
    "mms=MinMaxScaler()"
   ]
  },
  {
   "cell_type": "code",
   "execution_count": 46,
   "id": "e16324e6",
   "metadata": {},
   "outputs": [],
   "source": [
    "x_train[x_train.columns]=mms.fit_transform(x_train[x_train.columns].values)"
   ]
  },
  {
   "cell_type": "code",
   "execution_count": 47,
   "id": "9d5290fd",
   "metadata": {},
   "outputs": [],
   "source": [
    "x_test[x_test.columns]=mms.transform(x_test[x_test.columns].values)"
   ]
  },
  {
   "cell_type": "code",
   "execution_count": 48,
   "id": "a45946b8",
   "metadata": {},
   "outputs": [],
   "source": [
    "# MODEL BUILDING(RANDOM FOREST REGRESSOR)\n"
   ]
  },
  {
   "cell_type": "code",
   "execution_count": 49,
   "id": "e9fba635",
   "metadata": {},
   "outputs": [],
   "source": [
    "from sklearn.ensemble import RandomForestRegressor"
   ]
  },
  {
   "cell_type": "code",
   "execution_count": 50,
   "id": "e551896c",
   "metadata": {},
   "outputs": [],
   "source": [
    "model=RandomForestRegressor()"
   ]
  },
  {
   "cell_type": "code",
   "execution_count": 51,
   "id": "11ddffca",
   "metadata": {},
   "outputs": [
    {
     "data": {
      "text/plain": [
       "RandomForestRegressor()"
      ]
     },
     "execution_count": 51,
     "metadata": {},
     "output_type": "execute_result"
    }
   ],
   "source": [
    "model.fit(x_train,y_train)"
   ]
  },
  {
   "cell_type": "code",
   "execution_count": 52,
   "id": "a1b9d02b",
   "metadata": {},
   "outputs": [],
   "source": [
    "y_pred=model.predict(x_test)"
   ]
  },
  {
   "cell_type": "code",
   "execution_count": 53,
   "id": "da059134",
   "metadata": {},
   "outputs": [
    {
     "name": "stdout",
     "output_type": "stream",
     "text": [
      "[0.637  0.7148 0.6959 0.7682 0.8189 0.9235 0.6637 0.9243 0.6594 0.9263\n",
      " 0.6628 0.6181 0.6426 0.6786 0.4283 0.9438 0.5662 0.4832 0.7353 0.6546\n",
      " 0.8462 0.7613 0.9428 0.6811 0.8138 0.5224 0.7879 0.6795 0.6577 0.6506\n",
      " 0.7889 0.8496 0.6945 0.8319 0.7383 0.6936 0.5907 0.6593 0.7657 0.8789\n",
      " 0.5389 0.7127 0.4808 0.9413 0.6775 0.8325 0.7072 0.4772 0.5875 0.725\n",
      " 0.6201 0.9077 0.7107 0.7015 0.7039 0.5825 0.6695 0.6712 0.7312 0.9047\n",
      " 0.8995 0.6937 0.6362 0.5546 0.4938 0.7391 0.7068 0.5638 0.7169 0.7194\n",
      " 0.7966 0.8461 0.5754 0.9639 0.7379 0.7333 0.7559 0.6432 0.5371 0.5237]\n"
     ]
    }
   ],
   "source": [
    "print(y_pred)"
   ]
  },
  {
   "cell_type": "code",
   "execution_count": 54,
   "id": "538f5f57",
   "metadata": {},
   "outputs": [
    {
     "name": "stdout",
     "output_type": "stream",
     "text": [
      "2      0.72\n",
      "373    0.79\n",
      "342    0.58\n",
      "305    0.74\n",
      "371    0.89\n",
      "       ... \n",
      "264    0.75\n",
      "222    0.76\n",
      "309    0.70\n",
      "95     0.42\n",
      "58     0.36\n",
      "Name: Chance of Admit , Length: 80, dtype: float64\n"
     ]
    }
   ],
   "source": [
    "print(y_test)\n"
   ]
  },
  {
   "cell_type": "code",
   "execution_count": 55,
   "id": "576a9715",
   "metadata": {},
   "outputs": [],
   "source": [
    "#evaluation"
   ]
  },
  {
   "cell_type": "code",
   "execution_count": 56,
   "id": "97e4ef00",
   "metadata": {},
   "outputs": [],
   "source": [
    "from sklearn.metrics import mean_squared_error, r2_score,mean_absolute_error,roc_auc_score,recall_score"
   ]
  },
  {
   "cell_type": "code",
   "execution_count": 57,
   "id": "c2d4cb57",
   "metadata": {},
   "outputs": [
    {
     "name": "stdout",
     "output_type": "stream",
     "text": [
      "model score: 0.737257005500163\n"
     ]
    }
   ],
   "source": [
    "print('model score:',model.score(x_test,y_test))"
   ]
  },
  {
   "cell_type": "code",
   "execution_count": 58,
   "id": "fd9f77ac",
   "metadata": {},
   "outputs": [
    {
     "name": "stdout",
     "output_type": "stream",
     "text": [
      "Mean Absolute Error: 0.05110124999999999\n"
     ]
    }
   ],
   "source": [
    "print('Mean Absolute Error:', mean_absolute_error(y_test, y_pred)) "
   ]
  },
  {
   "cell_type": "code",
   "execution_count": 59,
   "id": "26705872",
   "metadata": {},
   "outputs": [
    {
     "name": "stdout",
     "output_type": "stream",
     "text": [
      "Mean Squared Error: 0.005482358374999996\n"
     ]
    }
   ],
   "source": [
    "print('Mean Squared Error:', mean_squared_error(y_test, y_pred)) "
   ]
  },
  {
   "cell_type": "code",
   "execution_count": 60,
   "id": "27a1a597",
   "metadata": {},
   "outputs": [
    {
     "name": "stdout",
     "output_type": "stream",
     "text": [
      "Root Mean Squared Error: 0.07404294952931033\n"
     ]
    }
   ],
   "source": [
    "print('Root Mean Squared Error:', np.sqrt(mean_squared_error(y_test, y_pred)))"
   ]
  },
  {
   "cell_type": "code",
   "execution_count": 61,
   "id": "abe6389c",
   "metadata": {},
   "outputs": [
    {
     "name": "stdout",
     "output_type": "stream",
     "text": [
      "roc score: 0.6736111111111112\n"
     ]
    }
   ],
   "source": [
    "print('roc score:',roc_auc_score(y_test>0.5, y_pred>0.5))\n"
   ]
  },
  {
   "cell_type": "code",
   "execution_count": 62,
   "id": "4943d453",
   "metadata": {},
   "outputs": [
    {
     "name": "stdout",
     "output_type": "stream",
     "text": [
      "recall score: 0.9722222222222222\n"
     ]
    }
   ],
   "source": [
    "print('recall score:',recall_score(y_test>0.5, y_pred>0.5))"
   ]
  },
  {
   "cell_type": "code",
   "execution_count": 63,
   "id": "648cf31e",
   "metadata": {},
   "outputs": [],
   "source": [
    "# MODEL BUILDING(LINEAR REGRESSION)"
   ]
  },
  {
   "cell_type": "code",
   "execution_count": 64,
   "id": "74c67ba9",
   "metadata": {},
   "outputs": [],
   "source": [
    "x1=data.drop(['Serial No.','Chance of Admit '],axis=1)"
   ]
  },
  {
   "cell_type": "code",
   "execution_count": 65,
   "id": "6ed78d15",
   "metadata": {},
   "outputs": [],
   "source": [
    "y1=data['Chance of Admit ']"
   ]
  },
  {
   "cell_type": "code",
   "execution_count": 66,
   "id": "b92e0ea8",
   "metadata": {},
   "outputs": [],
   "source": [
    "x1_train,x1_test,y1_train,y1_test=train_test_split(x1,y1,test_size=0.2)"
   ]
  },
  {
   "cell_type": "code",
   "execution_count": 67,
   "id": "5195726a",
   "metadata": {},
   "outputs": [],
   "source": [
    "from sklearn.preprocessing import StandardScaler"
   ]
  },
  {
   "cell_type": "code",
   "execution_count": 68,
   "id": "88add02c",
   "metadata": {},
   "outputs": [],
   "source": [
    "sc=StandardScaler()\n"
   ]
  },
  {
   "cell_type": "code",
   "execution_count": 69,
   "id": "f007181e",
   "metadata": {},
   "outputs": [],
   "source": [
    "x1_train=sc.fit_transform(x1_train)"
   ]
  },
  {
   "cell_type": "code",
   "execution_count": 70,
   "id": "65376cf9",
   "metadata": {},
   "outputs": [],
   "source": [
    "x1_test=sc.fit_transform(x1_test)\n"
   ]
  },
  {
   "cell_type": "code",
   "execution_count": 71,
   "id": "9775ea8d",
   "metadata": {},
   "outputs": [],
   "source": [
    "from sklearn.linear_model import LinearRegression\n"
   ]
  },
  {
   "cell_type": "code",
   "execution_count": 72,
   "id": "c223bdbb",
   "metadata": {},
   "outputs": [],
   "source": [
    "model1=LinearRegression()"
   ]
  },
  {
   "cell_type": "code",
   "execution_count": 73,
   "id": "a89ce431",
   "metadata": {},
   "outputs": [
    {
     "data": {
      "text/plain": [
       "LinearRegression()"
      ]
     },
     "execution_count": 73,
     "metadata": {},
     "output_type": "execute_result"
    }
   ],
   "source": [
    "model1.fit(x1_train,y1_train)\n"
   ]
  },
  {
   "cell_type": "code",
   "execution_count": 74,
   "id": "202ecb7a",
   "metadata": {},
   "outputs": [],
   "source": [
    "y1_pred=model1.predict(x1_test)"
   ]
  },
  {
   "cell_type": "code",
   "execution_count": 75,
   "id": "123009d5",
   "metadata": {},
   "outputs": [
    {
     "name": "stdout",
     "output_type": "stream",
     "text": [
      "model score: 0.774496149123365\n"
     ]
    }
   ],
   "source": [
    "print('model score:',model1.score(x1_test,y1_test))"
   ]
  },
  {
   "cell_type": "code",
   "execution_count": 76,
   "id": "1393fe35",
   "metadata": {},
   "outputs": [
    {
     "name": "stdout",
     "output_type": "stream",
     "text": [
      "Mean Absolute Error: 0.05113520276819641\n"
     ]
    }
   ],
   "source": [
    "print('Mean Absolute Error:', mean_absolute_error(y1_test, y1_pred)) "
   ]
  },
  {
   "cell_type": "code",
   "execution_count": 77,
   "id": "8a3a5c4e",
   "metadata": {},
   "outputs": [
    {
     "name": "stdout",
     "output_type": "stream",
     "text": [
      "Mean Squared Error: 0.004988145181391167\n"
     ]
    }
   ],
   "source": [
    "print('Mean Squared Error:', mean_squared_error(y1_test, y1_pred)) "
   ]
  },
  {
   "cell_type": "code",
   "execution_count": 78,
   "id": "beb8990d",
   "metadata": {},
   "outputs": [
    {
     "name": "stdout",
     "output_type": "stream",
     "text": [
      "Root Mean Squared Error: 0.07062680214614822\n"
     ]
    }
   ],
   "source": [
    "print('Root Mean Squared Error:', np.sqrt(mean_squared_error(y1_test, y1_pred)))\n"
   ]
  },
  {
   "cell_type": "code",
   "execution_count": 79,
   "id": "3d88cbbd",
   "metadata": {},
   "outputs": [
    {
     "name": "stdout",
     "output_type": "stream",
     "text": [
      "roc score: 0.7788649706457925\n"
     ]
    }
   ],
   "source": [
    "print('roc score:',roc_auc_score(y1_test>0.5, y1_pred>0.5))"
   ]
  },
  {
   "cell_type": "code",
   "execution_count": 80,
   "id": "f512dee5",
   "metadata": {},
   "outputs": [
    {
     "name": "stdout",
     "output_type": "stream",
     "text": [
      "recall score: 0.9863013698630136\n"
     ]
    }
   ],
   "source": [
    "print('recall score:',recall_score(y1_test>0.5, y1_pred>0.5))\n"
   ]
  },
  {
   "cell_type": "code",
   "execution_count": 81,
   "id": "40f351bb",
   "metadata": {},
   "outputs": [],
   "source": [
    "# MODEL BUILDING (LOGISTIC REGRESSION)"
   ]
  },
  {
   "cell_type": "code",
   "execution_count": 82,
   "id": "4268e359",
   "metadata": {},
   "outputs": [],
   "source": [
    "x2=data.iloc[:,1:8].values"
   ]
  },
  {
   "cell_type": "code",
   "execution_count": 83,
   "id": "089eb8b7",
   "metadata": {},
   "outputs": [],
   "source": [
    "y2=data.iloc[:,-1:].values"
   ]
  },
  {
   "cell_type": "code",
   "execution_count": 84,
   "id": "8c32bb3a",
   "metadata": {},
   "outputs": [],
   "source": [
    "x2_train,x2_test,y2_train,y2_test=train_test_split(x1,y1,test_size=0.2)"
   ]
  },
  {
   "cell_type": "code",
   "execution_count": 85,
   "id": "f7abd370",
   "metadata": {},
   "outputs": [],
   "source": [
    "y2_train=y2_train>0.5"
   ]
  },
  {
   "cell_type": "code",
   "execution_count": 86,
   "id": "f0a37657",
   "metadata": {},
   "outputs": [],
   "source": [
    "y2_test=y2_test>0.5"
   ]
  },
  {
   "cell_type": "code",
   "execution_count": 87,
   "id": "0e7b75b0",
   "metadata": {},
   "outputs": [],
   "source": [
    "from sklearn.linear_model import LogisticRegression"
   ]
  },
  {
   "cell_type": "code",
   "execution_count": 88,
   "id": "e3b8600b",
   "metadata": {},
   "outputs": [],
   "source": [
    "model2=LogisticRegression()"
   ]
  },
  {
   "cell_type": "code",
   "execution_count": 89,
   "id": "cbf2eaf5",
   "metadata": {},
   "outputs": [
    {
     "name": "stderr",
     "output_type": "stream",
     "text": [
      "C:\\Users\\ACER\\anaconda3\\lib\\site-packages\\sklearn\\linear_model\\_logistic.py:814: ConvergenceWarning: lbfgs failed to converge (status=1):\n",
      "STOP: TOTAL NO. of ITERATIONS REACHED LIMIT.\n",
      "\n",
      "Increase the number of iterations (max_iter) or scale the data as shown in:\n",
      "    https://scikit-learn.org/stable/modules/preprocessing.html\n",
      "Please also refer to the documentation for alternative solver options:\n",
      "    https://scikit-learn.org/stable/modules/linear_model.html#logistic-regression\n",
      "  n_iter_i = _check_optimize_result(\n"
     ]
    },
    {
     "data": {
      "text/plain": [
       "LogisticRegression()"
      ]
     },
     "execution_count": 89,
     "metadata": {},
     "output_type": "execute_result"
    }
   ],
   "source": [
    "model2.fit(x2_train,y2_train)"
   ]
  },
  {
   "cell_type": "code",
   "execution_count": 90,
   "id": "a52ab2a5",
   "metadata": {},
   "outputs": [],
   "source": [
    "#evaluation"
   ]
  },
  {
   "cell_type": "code",
   "execution_count": 91,
   "id": "19d9866a",
   "metadata": {},
   "outputs": [],
   "source": [
    "from sklearn.metrics import accuracy_score,roc_auc_score,recall_score"
   ]
  },
  {
   "cell_type": "code",
   "execution_count": 92,
   "id": "f623366d",
   "metadata": {},
   "outputs": [],
   "source": [
    "y2_pred=model2.predict(x2_test)"
   ]
  },
  {
   "cell_type": "code",
   "execution_count": 93,
   "id": "10ff2a20",
   "metadata": {},
   "outputs": [
    {
     "name": "stdout",
     "output_type": "stream",
     "text": [
      "model score: 0.9\n"
     ]
    }
   ],
   "source": [
    "print('model score:',model2.score(x2_test,y2_test))"
   ]
  },
  {
   "cell_type": "code",
   "execution_count": 94,
   "id": "fa9541e6",
   "metadata": {},
   "outputs": [
    {
     "name": "stdout",
     "output_type": "stream",
     "text": [
      "roc score: 0.6111111111111112\n"
     ]
    }
   ],
   "source": [
    "print('roc score:',roc_auc_score(y2_test, y2_pred))\n"
   ]
  },
  {
   "cell_type": "code",
   "execution_count": 95,
   "id": "78e41fb3",
   "metadata": {},
   "outputs": [
    {
     "name": "stdout",
     "output_type": "stream",
     "text": [
      "recall score: 0.9722222222222222\n"
     ]
    }
   ],
   "source": [
    "print('recall score:',recall_score(y2_test, y2_pred))\n"
   ]
  },
  {
   "cell_type": "code",
   "execution_count": 96,
   "id": "1bd0512d",
   "metadata": {},
   "outputs": [
    {
     "name": "stdout",
     "output_type": "stream",
     "text": [
      "<class 'pandas.core.series.Series'> <class 'numpy.ndarray'>\n"
     ]
    }
   ],
   "source": [
    "print(type(y2_test),type(y2_pred))"
   ]
  },
  {
   "cell_type": "code",
   "execution_count": 97,
   "id": "a3e9f232",
   "metadata": {},
   "outputs": [],
   "source": [
    "# SAVING THE MODEL"
   ]
  },
  {
   "cell_type": "code",
   "execution_count": 98,
   "id": "d4e2ce5b",
   "metadata": {},
   "outputs": [],
   "source": [
    "#Though the accuracy of Logistic regression model is more we prefer Random forest regressor if we also want the percentage of chance or else we can use Logistic regression model."
   ]
  },
  {
   "cell_type": "code",
   "execution_count": 99,
   "id": "640eaa89",
   "metadata": {},
   "outputs": [],
   "source": [
    "import pickle\n"
   ]
  },
  {
   "cell_type": "code",
   "execution_count": 100,
   "id": "516cfe01",
   "metadata": {},
   "outputs": [],
   "source": [
    "pickle.dump(model,open('model.pkl','wb'))"
   ]
  },
  {
   "cell_type": "code",
   "execution_count": 101,
   "id": "c9c0b072",
   "metadata": {},
   "outputs": [
    {
     "data": {
      "text/plain": [
       "'C:\\\\Users\\\\ACER'"
      ]
     },
     "execution_count": 101,
     "metadata": {},
     "output_type": "execute_result"
    }
   ],
   "source": [
    "\n",
    "pwd\n"
   ]
  },
  {
   "cell_type": "code",
   "execution_count": 102,
   "id": "aa2ea6da",
   "metadata": {},
   "outputs": [],
   "source": [
    "###Deployment###"
   ]
  },
  {
   "cell_type": "code",
   "execution_count": 103,
   "id": "2fa93bf0",
   "metadata": {},
   "outputs": [
    {
     "name": "stdout",
     "output_type": "stream",
     "text": [
      "Requirement already satisfied: ibm-watson-machine-learning in c:\\users\\acer\\anaconda3\\lib\\site-packages (1.0.257)\n",
      "Requirement already satisfied: importlib-metadata in c:\\users\\acer\\anaconda3\\lib\\site-packages (from ibm-watson-machine-learning) (4.11.3)\n",
      "Requirement already satisfied: certifi in c:\\users\\acer\\anaconda3\\lib\\site-packages (from ibm-watson-machine-learning) (2022.9.14)\n",
      "Requirement already satisfied: tabulate in c:\\users\\acer\\anaconda3\\lib\\site-packages (from ibm-watson-machine-learning) (0.8.10)\n",
      "Requirement already satisfied: lomond in c:\\users\\acer\\anaconda3\\lib\\site-packages (from ibm-watson-machine-learning) (0.3.3)\n",
      "Requirement already satisfied: packaging in c:\\users\\acer\\anaconda3\\lib\\site-packages (from ibm-watson-machine-learning) (21.3)\n",
      "Requirement already satisfied: ibm-cos-sdk==2.11.* in c:\\users\\acer\\anaconda3\\lib\\site-packages (from ibm-watson-machine-learning) (2.11.0)\n",
      "Requirement already satisfied: requests in c:\\users\\acer\\anaconda3\\lib\\site-packages (from ibm-watson-machine-learning) (2.28.1)\n",
      "Requirement already satisfied: urllib3 in c:\\users\\acer\\anaconda3\\lib\\site-packages (from ibm-watson-machine-learning) (1.26.11)\n",
      "Requirement already satisfied: pandas<1.5.0,>=0.24.2 in c:\\users\\acer\\anaconda3\\lib\\site-packages (from ibm-watson-machine-learning) (1.4.4)\n",
      "Requirement already satisfied: jmespath<1.0.0,>=0.7.1 in c:\\users\\acer\\anaconda3\\lib\\site-packages (from ibm-cos-sdk==2.11.*->ibm-watson-machine-learning) (0.10.0)\n",
      "Requirement already satisfied: ibm-cos-sdk-core==2.11.0 in c:\\users\\acer\\anaconda3\\lib\\site-packages (from ibm-cos-sdk==2.11.*->ibm-watson-machine-learning) (2.11.0)\n",
      "Requirement already satisfied: ibm-cos-sdk-s3transfer==2.11.0 in c:\\users\\acer\\anaconda3\\lib\\site-packages (from ibm-cos-sdk==2.11.*->ibm-watson-machine-learning) (2.11.0)\n",
      "Requirement already satisfied: python-dateutil<3.0.0,>=2.1 in c:\\users\\acer\\anaconda3\\lib\\site-packages (from ibm-cos-sdk-core==2.11.0->ibm-cos-sdk==2.11.*->ibm-watson-machine-learning) (2.8.2)\n",
      "Requirement already satisfied: pytz>=2020.1 in c:\\users\\acer\\anaconda3\\lib\\site-packages (from pandas<1.5.0,>=0.24.2->ibm-watson-machine-learning) (2022.1)\n",
      "Requirement already satisfied: numpy>=1.18.5 in c:\\users\\acer\\anaconda3\\lib\\site-packages (from pandas<1.5.0,>=0.24.2->ibm-watson-machine-learning) (1.21.5)\n",
      "Requirement already satisfied: idna<4,>=2.5 in c:\\users\\acer\\anaconda3\\lib\\site-packages (from requests->ibm-watson-machine-learning) (3.3)\n",
      "Requirement already satisfied: charset-normalizer<3,>=2 in c:\\users\\acer\\anaconda3\\lib\\site-packages (from requests->ibm-watson-machine-learning) (2.0.4)\n",
      "Requirement already satisfied: zipp>=0.5 in c:\\users\\acer\\anaconda3\\lib\\site-packages (from importlib-metadata->ibm-watson-machine-learning) (3.8.0)\n",
      "Requirement already satisfied: six>=1.10.0 in c:\\users\\acer\\anaconda3\\lib\\site-packages (from lomond->ibm-watson-machine-learning) (1.16.0)\n",
      "Requirement already satisfied: pyparsing!=3.0.5,>=2.0.2 in c:\\users\\acer\\anaconda3\\lib\\site-packages (from packaging->ibm-watson-machine-learning) (3.0.9)\n"
     ]
    }
   ],
   "source": [
    "!pip install -U ibm-watson-machine-learning"
   ]
  },
  {
   "cell_type": "code",
   "execution_count": 104,
   "id": "72e9184c",
   "metadata": {},
   "outputs": [],
   "source": [
    "from ibm_watson_machine_learning import APIClient\n",
    "import json\n",
    "import numpy as np"
   ]
  },
  {
   "cell_type": "code",
   "execution_count": 105,
   "id": "12f08076",
   "metadata": {},
   "outputs": [],
   "source": [
    "wml_credentials = {\n",
    "    \"url\": \"https://us-south.ml.cloud.ibm.com\",\n",
    "    \"apikey\": \"mVfVsd1a-5IUbIK3qMeiw411A9KS6nUvFgB6LbsjjrN5\"\n",
    "}\n",
    "\n",
    "client = APIClient(wml_credentials)"
   ]
  },
  {
   "cell_type": "code",
   "execution_count": 106,
   "id": "d2c388e8",
   "metadata": {},
   "outputs": [
    {
     "name": "stdout",
     "output_type": "stream",
     "text": [
      "Note: 'limit' is not provided. Only first 50 records will be displayed if the number of records exceed 50\n",
      "------------------------------------  --------------------------------------  ------------------------\n",
      "ID                                    NAME                                    CREATED\n",
      "f96332b6-2745-446f-b2bc-0045818feea0  University Admit Eligibility Predictor  2022-10-31T18:19:26.898Z\n",
      "------------------------------------  --------------------------------------  ------------------------\n"
     ]
    }
   ],
   "source": [
    "wml_client = APIClient(wml_credentials)\n",
    "wml_client.spaces.list()"
   ]
  },
  {
   "cell_type": "code",
   "execution_count": 107,
   "id": "68c030ab",
   "metadata": {},
   "outputs": [],
   "source": [
    "SPACE_ID = \"f96332b6-2745-446f-b2bc-0045818feea0\""
   ]
  },
  {
   "cell_type": "code",
   "execution_count": 108,
   "id": "12c056bf",
   "metadata": {},
   "outputs": [
    {
     "data": {
      "text/plain": [
       "'SUCCESS'"
      ]
     },
     "execution_count": 108,
     "metadata": {},
     "output_type": "execute_result"
    }
   ],
   "source": [
    "wml_client.set.default_space(SPACE_ID)"
   ]
  },
  {
   "cell_type": "code",
   "execution_count": 109,
   "id": "c0c5e65b",
   "metadata": {},
   "outputs": [
    {
     "name": "stdout",
     "output_type": "stream",
     "text": [
      "-----------------------------  ------------------------------------  ----\n",
      "NAME                           ASSET_ID                              TYPE\n",
      "default_py3.6                  0062b8c9-8b7d-44a0-a9b9-46c416adcbd9  base\n",
      "kernel-spark3.2-scala2.12      020d69ce-7ac1-5e68-ac1a-31189867356a  base\n",
      "pytorch-onnx_1.3-py3.7-edt     069ea134-3346-5748-b513-49120e15d288  base\n",
      "scikit-learn_0.20-py3.6        09c5a1d0-9c1e-4473-a344-eb7b665ff687  base\n",
      "spark-mllib_3.0-scala_2.12     09f4cff0-90a7-5899-b9ed-1ef348aebdee  base\n",
      "pytorch-onnx_rt22.1-py3.9      0b848dd4-e681-5599-be41-b5f6fccc6471  base\n",
      "ai-function_0.1-py3.6          0cdb0f1e-5376-4f4d-92dd-da3b69aa9bda  base\n",
      "shiny-r3.6                     0e6e79df-875e-4f24-8ae9-62dcc2148306  base\n",
      "tensorflow_2.4-py3.7-horovod   1092590a-307d-563d-9b62-4eb7d64b3f22  base\n",
      "pytorch_1.1-py3.6              10ac12d6-6b30-4ccd-8392-3e922c096a92  base\n",
      "tensorflow_1.15-py3.6-ddl      111e41b3-de2d-5422-a4d6-bf776828c4b7  base\n",
      "runtime-22.1-py3.9             12b83a17-24d8-5082-900f-0ab31fbfd3cb  base\n",
      "scikit-learn_0.22-py3.6        154010fa-5b3b-4ac1-82af-4d5ee5abbc85  base\n",
      "default_r3.6                   1b70aec3-ab34-4b87-8aa0-a4a3c8296a36  base\n",
      "pytorch-onnx_1.3-py3.6         1bc6029a-cc97-56da-b8e0-39c3880dbbe7  base\n",
      "kernel-spark3.3-r3.6           1c9e5454-f216-59dd-a20e-474a5cdf5988  base\n",
      "pytorch-onnx_rt22.1-py3.9-edt  1d362186-7ad5-5b59-8b6c-9d0880bde37f  base\n",
      "tensorflow_2.1-py3.6           1eb25b84-d6ed-5dde-b6a5-3fbdf1665666  base\n",
      "spark-mllib_3.2                20047f72-0a98-58c7-9ff5-a77b012eb8f5  base\n",
      "tensorflow_2.4-py3.8-horovod   217c16f6-178f-56bf-824a-b19f20564c49  base\n",
      "runtime-22.1-py3.9-cuda        26215f05-08c3-5a41-a1b0-da66306ce658  base\n",
      "do_py3.8                       295addb5-9ef9-547e-9bf4-92ae3563e720  base\n",
      "autoai-ts_3.8-py3.8            2aa0c932-798f-5ae9-abd6-15e0c2402fb5  base\n",
      "tensorflow_1.15-py3.6          2b73a275-7cbf-420b-a912-eae7f436e0bc  base\n",
      "kernel-spark3.3-py3.9          2b7961e2-e3b1-5a8c-a491-482c8368839a  base\n",
      "pytorch_1.2-py3.6              2c8ef57d-2687-4b7d-acce-01f94976dac1  base\n",
      "spark-mllib_2.3                2e51f700-bca0-4b0d-88dc-5c6791338875  base\n",
      "pytorch-onnx_1.1-py3.6-edt     32983cea-3f32-4400-8965-dde874a8d67e  base\n",
      "spark-mllib_3.0-py37           36507ebe-8770-55ba-ab2a-eafe787600e9  base\n",
      "spark-mllib_2.4                390d21f8-e58b-4fac-9c55-d7ceda621326  base\n",
      "xgboost_0.82-py3.6             39e31acd-5f30-41dc-ae44-60233c80306e  base\n",
      "pytorch-onnx_1.2-py3.6-edt     40589d0e-7019-4e28-8daa-fb03b6f4fe12  base\n",
      "default_r36py38                41c247d3-45f8-5a71-b065-8580229facf0  base\n",
      "autoai-ts_rt22.1-py3.9         4269d26e-07ba-5d40-8f66-2d495b0c71f7  base\n",
      "autoai-obm_3.0                 42b92e18-d9ab-567f-988a-4240ba1ed5f7  base\n",
      "pmml-3.0_4.3                   493bcb95-16f1-5bc5-bee8-81b8af80e9c7  base\n",
      "spark-mllib_2.4-r_3.6          49403dff-92e9-4c87-a3d7-a42d0021c095  base\n",
      "xgboost_0.90-py3.6             4ff8d6c2-1343-4c18-85e1-689c965304d3  base\n",
      "pytorch-onnx_1.1-py3.6         50f95b2a-bc16-43bb-bc94-b0bed208c60b  base\n",
      "autoai-ts_3.9-py3.8            52c57136-80fa-572e-8728-a5e7cbb42cde  base\n",
      "spark-mllib_2.4-scala_2.11     55a70f99-7320-4be5-9fb9-9edb5a443af5  base\n",
      "spark-mllib_3.0                5c1b0ca2-4977-5c2e-9439-ffd44ea8ffe9  base\n",
      "autoai-obm_2.0                 5c2e37fa-80b8-5e77-840f-d912469614ee  base\n",
      "spss-modeler_18.1              5c3cad7e-507f-4b2a-a9a3-ab53a21dee8b  base\n",
      "cuda-py3.8                     5d3232bf-c86b-5df4-a2cd-7bb870a1cd4e  base\n",
      "autoai-kb_3.1-py3.7            632d4b22-10aa-5180-88f0-f52dfb6444d7  base\n",
      "pytorch-onnx_1.7-py3.8         634d3cdc-b562-5bf9-a2d4-ea90a478456b  base\n",
      "spark-mllib_2.3-r_3.6          6586b9e3-ccd6-4f92-900f-0f8cb2bd6f0c  base\n",
      "tensorflow_2.4-py3.7           65e171d7-72d1-55d9-8ebb-f813d620c9bb  base\n",
      "spss-modeler_18.2              687eddc9-028a-4117-b9dd-e57b36f1efa5  base\n",
      "-----------------------------  ------------------------------------  ----\n",
      "Note: Only first 50 records were displayed. To display more use 'limit' parameter.\n"
     ]
    }
   ],
   "source": [
    "wml_client.software_specifications.list()"
   ]
  },
  {
   "cell_type": "code",
   "execution_count": 110,
   "id": "1c69fe65",
   "metadata": {},
   "outputs": [],
   "source": [
    "###SAVE AND DEPLOY THE MODEL###\n"
   ]
  },
  {
   "cell_type": "code",
   "execution_count": 111,
   "id": "6030ef0d",
   "metadata": {},
   "outputs": [
    {
     "data": {
      "text/plain": [
       "'1.0.2'"
      ]
     },
     "execution_count": 111,
     "metadata": {},
     "output_type": "execute_result"
    }
   ],
   "source": [
    "import sklearn\n",
    "sklearn.__version__"
   ]
  },
  {
   "cell_type": "code",
   "execution_count": 120,
   "id": "6f99fe7f",
   "metadata": {},
   "outputs": [],
   "source": [
    "MODEL_NAME = 'University Admit Eligibility Predictor'\n",
    "DEPLOYMENT_NAME = 'University Admit Eligibility Predictor'\n",
    "University_Admit_Eligibility_Predictor = model"
   ]
  },
  {
   "cell_type": "code",
   "execution_count": 121,
   "id": "e1d545ea",
   "metadata": {},
   "outputs": [],
   "source": [
    "#set Python Version\n",
    "software_spec_uid = wml_client.software_specifications.get_id_by_name('runtime-22.1-py3.9')"
   ]
  },
  {
   "cell_type": "code",
   "execution_count": 122,
   "id": "65c50a8f",
   "metadata": {},
   "outputs": [],
   "source": [
    "# setup model meta\n",
    "model_props = {\n",
    "    wml_client.repository.ModelMetaNames.NAME: MODEL_NAME,\n",
    "    wml_client.repository.ModelMetaNames.TYPE: 'scikit-learn_1.0',\n",
    "    wml_client.repository.ModelMetaNames.SOFTWARE_SPEC_UID: software_spec_uid\n",
    "}   "
   ]
  },
  {
   "cell_type": "code",
   "execution_count": 139,
   "id": "fadc2e87",
   "metadata": {},
   "outputs": [],
   "source": [
    "#Save model\n",
    "model_details = wml_client.repository.store_model(\n",
    "    model=model,\n",
    "    meta_props=model_props,\n",
    "    training_data=x_train,\n",
    "    training_target=y_train\n",
    ")    "
   ]
  },
  {
   "cell_type": "code",
   "execution_count": 140,
   "id": "59a3e19e",
   "metadata": {},
   "outputs": [
    {
     "data": {
      "text/plain": [
       "{'entity': {'hybrid_pipeline_software_specs': [],\n",
       "  'label_column': 'Chance of Admit ',\n",
       "  'schemas': {'input': [{'fields': [{'name': 'GRE Score', 'type': 'float64'},\n",
       "      {'name': 'TOEFL Score', 'type': 'float64'},\n",
       "      {'name': 'University Rating', 'type': 'float64'},\n",
       "      {'name': 'SOP', 'type': 'float64'},\n",
       "      {'name': 'LOR ', 'type': 'float64'},\n",
       "      {'name': 'CGPA', 'type': 'float64'},\n",
       "      {'name': 'Research', 'type': 'float64'}],\n",
       "     'id': '1',\n",
       "     'type': 'struct'}],\n",
       "   'output': []},\n",
       "  'software_spec': {'id': '12b83a17-24d8-5082-900f-0ab31fbfd3cb',\n",
       "   'name': 'runtime-22.1-py3.9'},\n",
       "  'type': 'scikit-learn_1.0'},\n",
       " 'metadata': {'created_at': '2022-11-08T16:47:53.906Z',\n",
       "  'id': '7fa91c8b-786d-4afa-b4ea-fd8682114c3f',\n",
       "  'modified_at': '2022-11-08T16:48:07.128Z',\n",
       "  'name': 'University Admit Eligibility Predictor',\n",
       "  'owner': 'IBMid-667000CEZ4',\n",
       "  'resource_key': 'f2aeb7d7-77ee-4603-abc9-e111940f0e61',\n",
       "  'space_id': 'f96332b6-2745-446f-b2bc-0045818feea0'},\n",
       " 'system': {'warnings': []}}"
      ]
     },
     "execution_count": 140,
     "metadata": {},
     "output_type": "execute_result"
    }
   ],
   "source": [
    "model_details"
   ]
  },
  {
   "cell_type": "code",
   "execution_count": 141,
   "id": "14456eec",
   "metadata": {},
   "outputs": [],
   "source": [
    "model_id = wml_client.repository.get_model_id(model_details)"
   ]
  },
  {
   "cell_type": "code",
   "execution_count": 142,
   "id": "2c044343",
   "metadata": {},
   "outputs": [
    {
     "data": {
      "text/plain": [
       "'7fa91c8b-786d-4afa-b4ea-fd8682114c3f'"
      ]
     },
     "execution_count": 142,
     "metadata": {},
     "output_type": "execute_result"
    }
   ],
   "source": [
    "model_id"
   ]
  },
  {
   "cell_type": "code",
   "execution_count": 144,
   "id": "f28310f7",
   "metadata": {},
   "outputs": [],
   "source": [
    "#Set meta\n",
    "deployment_props = {\n",
    "    wml_client.deployments.ConfigurationMetaNames.NAME:DEPLOYMENT_NAME,\n",
    "    wml_client.deployments.ConfigurationMetaNames.ONLINE: {}\n",
    "}    "
   ]
  },
  {
   "cell_type": "code",
   "execution_count": 147,
   "id": "8882dca9",
   "metadata": {},
   "outputs": [
    {
     "name": "stdout",
     "output_type": "stream",
     "text": [
      "\n",
      "\n",
      "#######################################################################################\n",
      "\n",
      "Synchronous deployment creation for uid: '7fa91c8b-786d-4afa-b4ea-fd8682114c3f' started\n",
      "\n",
      "#######################################################################################\n",
      "\n",
      "\n",
      "initializing\n",
      "Note: online_url is deprecated and will be removed in a future release. Use serving_urls instead.\n",
      "\n",
      "ready\n",
      "\n",
      "\n",
      "------------------------------------------------------------------------------------------------\n",
      "Successfully finished deployment creation, deployment_uid='07193e2e-ef9c-441f-b0a3-eb0f6745893c'\n",
      "------------------------------------------------------------------------------------------------\n",
      "\n",
      "\n"
     ]
    }
   ],
   "source": [
    "# Deploy\n",
    "deployment = wml_client.deployments.create(\n",
    "    artifact_uid=model_id,\n",
    "    meta_props=deployment_props\n",
    ")    "
   ]
  },
  {
   "cell_type": "code",
   "execution_count": null,
   "id": "6e4b4cec",
   "metadata": {},
   "outputs": [],
   "source": []
  }
 ],
 "metadata": {
  "kernelspec": {
   "display_name": "Python 3 (ipykernel)",
   "language": "python",
   "name": "python3"
  },
  "language_info": {
   "codemirror_mode": {
    "name": "ipython",
    "version": 3
   },
   "file_extension": ".py",
   "mimetype": "text/x-python",
   "name": "python",
   "nbconvert_exporter": "python",
   "pygments_lexer": "ipython3",
   "version": "3.9.13"
  }
 },
 "nbformat": 4,
 "nbformat_minor": 5
}
